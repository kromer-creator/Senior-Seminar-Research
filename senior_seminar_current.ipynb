{
 "cells": [
  {
   "cell_type": "markdown",
   "metadata": {},
   "source": [
    "# Cyclic Permutations of n-gons"
   ]
  },
  {
   "cell_type": "code",
   "execution_count": 7,
   "metadata": {
    "scrolled": true
   },
   "outputs": [
    {
     "name": "stdout",
     "output_type": "stream",
     "text": [
      "[50170.4891604370, -50170.4891604370, 0.000000000000000, 0.000000000000000, -15503.5337666791, -15503.5337666791, 40588.7783468976, 40588.7783468976, -40588.7783468976, -40588.7783468976, 15503.5337666791, 15503.5337666791, -47714.9706417489, -47714.9706417489, -29489.4736288042, -29489.4736288042, 29489.4736288042, 29489.4736288042, 47714.9706417489, 47714.9706417489, -48594.2909863857, -48594.2909863857, -43964.7347923592, -43964.7347923592, -36572.7126203445, -36572.7126203445, -26882.6924093654, -26882.6924093654, -3150.23107942362, -3150.23107942362, 9401.01221229153, 9401.01221229153, 21361.5553322040, 21361.5553322040, 31979.8733682891, 31979.8733682891, 46647.3411068857, 46647.3411068857, 49774.8798682082, 49774.8798682082, -49774.8798682082, -49774.8798682082, -46647.3411068857, -46647.3411068857, -31979.8733682891, -31979.8733682891, -21361.5553322040, -21361.5553322040, -9401.01221229153, -9401.01221229153, 3150.23107942362, 3150.23107942362, 26882.6924093654, 26882.6924093654, 36572.7126203445, 36572.7126203445, 43964.7347923592, 43964.7347923592, 48594.2909863857, 48594.2909863857, -50071.4891604370, -50071.4891604370, -49281.8318651191, -49281.8318651191, -45395.6158278166, -45395.6158278166, -42360.3450342531, -42360.3450342531, -38657.0262946559, -38657.0262946559, -34344.0631578038, -34344.0631578038, -24169.8174845208, -24169.8174845208, -18468.9888801573, -18468.9888801573, -12476.8932883146, -12476.8932883146, -6288.02963598044, -6288.02963598044, 6288.02963598044, 6288.02963598044, 12476.8932883146, 12476.8932883146, 18468.9888801573, 18468.9888801573, 24169.8174845208, 24169.8174845208, 34344.0631578038, 34344.0631578038, 38657.0262946559, 38657.0262946559, 42360.3450342531, 42360.3450342531, 45395.6158278166, 45395.6158278166, 49281.8318651191, 49281.8318651191, 50071.4891604370, 50071.4891604370]\n"
     ]
    },
    {
     "data": {
      "image/png": "[encoded data removed]",
      "text/plain": [
       "<Figure size 432x288 with 1 Axes>"
      ]
     },
     "metadata": {
      "needs_background": "light"
     },
     "output_type": "display_data"
    }
   ],
   "source": [
    "import xlwt\n",
    "from xlwt import Workbook\n",
    "#import cmath\n",
    "import matplotlib.pyplot as plt\n",
    "\n",
    "export_data = dict()\n",
    "\n",
    "for i in range(3,101):\n",
    "    C = groups.permutation.Cyclic(i)\n",
    "    # Make generating set\n",
    "    s1 = tuple(range(1,i+1))\n",
    "    s_ = [1] + list(range(i, 1, -1))\n",
    "    s2 = tuple(s_)\n",
    "    S = [s1,s2]\n",
    "    # Produce Cayley Graph\n",
    "    d = C.cayley_graph(generators=S)\n",
    "    d = d.to_undirected()\n",
    "    \n",
    "    # Adjacency matrix fxn\n",
    "    A = d.adjacency_matrix()\n",
    "\n",
    "    # Get Eigenvalues\n",
    "    eigenvals = A.eigenvalues()\n",
    "    export_data[i] = eigenvals\n",
    "    \n",
    "\n",
    "# Push data to excel spreadsheet\n",
    "wb = Workbook()\n",
    "sheet1 = wb.add_sheet('Cyclic Perms Eigenvalues')\n",
    "# Column Headers\n",
    "sheet1.write(int(0), 0, \"n\")\n",
    "sheet1.write(int(0),1, \"Eigenvalues\")\n",
    "# Perm number\n",
    "rows = list(export_data.keys())\n",
    "i = 1\n",
    "for val in rows:\n",
    "    sheet1.write(int(i), 0, val)\n",
    "    i += 1\n",
    "# Eigenvalues\n",
    "r = 1\n",
    "for vals in export_data.values():\n",
    "    c = 1\n",
    "    for val in vals:\n",
    "        sheet1.write(int(r), int(c), str(val))\n",
    "        c += 1\n",
    "    r += 1    \n",
    "wb.save('xlwt cyclic_perms_eigenvals.xls')\n",
    "\n",
    "# Scale eigenvalues\n",
    "weighted_export = dict()\n",
    "i = 3\n",
    "for m in export_data.values():\n",
    "    length = len(m) - 1\n",
    "    lambda_1 = m[0]\n",
    "    lambda_n = m[-1]\n",
    "    vals = list()\n",
    "    for e in m:\n",
    "        e_weighted = (length/(lambda_1 - lambda_n))*e\n",
    "        ##TODO: get rid of question mark ###\n",
    "        # Omit the non-real portion of any complex number\n",
    "        # .real()\n",
    "        # RealField() Floating number with arbitrary (still fixed) many bits of precision\n",
    "        vals.append(RR(e_weighted))\n",
    "    weighted_export[i] = vals\n",
    "    i += 1\n",
    "\n",
    "\n",
    "# Push data to excel spreadsheet\n",
    "sheet2 = wb.add_sheet('Cyclic Perms Eigenvalues Scaled')\n",
    "# Column Headers\n",
    "sheet2.write(int(0), 0, \"n\")\n",
    "sheet2.write(int(0),1, \"Eigenvalues\")\n",
    "# Perm number\n",
    "rows = list(weighted_export.keys())\n",
    "i = 1\n",
    "for val in rows:\n",
    "    sheet2.write(int(i), int(0), str(val))\n",
    "    i += 1\n",
    "# Eigenvalues\n",
    "r = 1\n",
    "for vals in weighted_export.values():\n",
    "    c = 1\n",
    "    for val in vals:\n",
    "        sheet2.write(int(r), int(c), str(val))\n",
    "        c += 1\n",
    "    r += 1    \n",
    "wb.save('xlwt cyclic_perms_eigenvals_weighted.xls')\n",
    "\n",
    "# Make histogram for n = 100\n",
    "plt.hist(list(weighted_export[100]), density=True, bins=100)  # density=False would make counts\n",
    "plt.ylabel('Num Occurences')\n",
    "plt.xlabel('Eigenvalues');\n",
    "plt.show()"
   ]
  },
  {
   "cell_type": "markdown",
   "metadata": {},
   "source": [
    "# Random Matrices with Zero Diagonal"
   ]
  },
  {
   "cell_type": "code",
   "execution_count": 6,
   "metadata": {},
   "outputs": [
    {
     "name": "stdout",
     "output_type": "stream",
     "text": [
      "[[0.         1.65657398 1.05182137 1.73584442 2.454851   0.99179935]\n",
      " [1.65657398 0.         1.70616541 1.73636474 2.51085549 0.99357673]\n",
      " [1.05182137 1.70616541 0.         1.14070328 1.74045511 0.72642031]\n",
      " [1.73584442 1.73636474 1.14070328 0.         2.29343523 1.03859686]\n",
      " [2.454851   2.51085549 1.74045511 2.29343523 0.         1.55704762]\n",
      " [0.99179935 0.99357673 0.72642031 1.03859686 1.55704762 0.        ]]\n"
     ]
    },
    {
     "ename": "KeyError",
     "evalue": "6",
     "output_type": "error",
     "traceback": [
      "\u001b[0;31m---------------------------------------------------------------------------\u001b[0m",
      "\u001b[0;31mKeyError\u001b[0m                                  Traceback (most recent call last)",
      "\u001b[0;32m<ipython-input-6-8271835dbe2b>\u001b[0m in \u001b[0;36m<module>\u001b[0;34m\u001b[0m\n\u001b[1;32m     80\u001b[0m \u001b[0;34m\u001b[0m\u001b[0m\n\u001b[1;32m     81\u001b[0m \u001b[0;31m# Make histogram for n = 100\u001b[0m\u001b[0;34m\u001b[0m\u001b[0;34m\u001b[0m\u001b[0;34m\u001b[0m\u001b[0m\n\u001b[0;32m---> 82\u001b[0;31m \u001b[0mplt\u001b[0m\u001b[0;34m.\u001b[0m\u001b[0mhist\u001b[0m\u001b[0;34m(\u001b[0m\u001b[0mlist\u001b[0m\u001b[0;34m(\u001b[0m\u001b[0mweighted_export\u001b[0m\u001b[0;34m[\u001b[0m\u001b[0mInteger\u001b[0m\u001b[0;34m(\u001b[0m\u001b[0;36m6\u001b[0m\u001b[0;34m)\u001b[0m\u001b[0;34m]\u001b[0m\u001b[0;34m)\u001b[0m\u001b[0;34m,\u001b[0m \u001b[0mdensity\u001b[0m\u001b[0;34m=\u001b[0m\u001b[0;32mTrue\u001b[0m\u001b[0;34m,\u001b[0m \u001b[0mbins\u001b[0m\u001b[0;34m=\u001b[0m\u001b[0mInteger\u001b[0m\u001b[0;34m(\u001b[0m\u001b[0;36m100\u001b[0m\u001b[0;34m)\u001b[0m\u001b[0;34m,\u001b[0m \u001b[0mrange\u001b[0m\u001b[0;34m=\u001b[0m\u001b[0;34m[\u001b[0m\u001b[0mint\u001b[0m\u001b[0;34m(\u001b[0m\u001b[0;34m-\u001b[0m\u001b[0mInteger\u001b[0m\u001b[0;34m(\u001b[0m\u001b[0;36m2\u001b[0m\u001b[0;34m)\u001b[0m\u001b[0;34m)\u001b[0m\u001b[0;34m,\u001b[0m\u001b[0mint\u001b[0m\u001b[0;34m(\u001b[0m\u001b[0mInteger\u001b[0m\u001b[0;34m(\u001b[0m\u001b[0;36m2\u001b[0m\u001b[0;34m)\u001b[0m\u001b[0;34m)\u001b[0m\u001b[0;34m]\u001b[0m\u001b[0;34m)\u001b[0m  \u001b[0;31m# density=False would make counts\u001b[0m\u001b[0;34m\u001b[0m\u001b[0;34m\u001b[0m\u001b[0m\n\u001b[0m\u001b[1;32m     83\u001b[0m \u001b[0mplt\u001b[0m\u001b[0;34m.\u001b[0m\u001b[0mylabel\u001b[0m\u001b[0;34m(\u001b[0m\u001b[0;34m'Num Occurences'\u001b[0m\u001b[0;34m)\u001b[0m\u001b[0;34m\u001b[0m\u001b[0;34m\u001b[0m\u001b[0m\n\u001b[1;32m     84\u001b[0m \u001b[0mplt\u001b[0m\u001b[0;34m.\u001b[0m\u001b[0mxlabel\u001b[0m\u001b[0;34m(\u001b[0m\u001b[0;34m'Eigenvalues'\u001b[0m\u001b[0;34m)\u001b[0m\u001b[0;34m;\u001b[0m\u001b[0;34m\u001b[0m\u001b[0;34m\u001b[0m\u001b[0m\n",
      "\u001b[0;31mKeyError\u001b[0m: 6"
     ]
    }
   ],
   "source": [
    "import numpy as np\n",
    "import xlwt\n",
    "from xlwt import Workbook\n",
    "import matplotlib.pyplot as plt\n",
    "\n",
    "export_data = dict()\n",
    "\n",
    "for i in range(6,7):\n",
    "    # Generate the symmetric random matrix\n",
    "    M = np.random.rand(i, i)\n",
    "    # reproduce with zeros and ones here for random graphs\n",
    "    S = np.matmul(M,M.T)\n",
    "    # Make the diagonal zero\n",
    "    for row in range(i):\n",
    "        for col in range(i):\n",
    "            if row == col:\n",
    "                S[row][col] = 0\n",
    "    print(S)\n",
    "    # Get eigenvalues\n",
    "    eigenvals = np.linalg.eigvalsh(S)\n",
    "    export_data[i] = eigenvals\n",
    "\n",
    "#print(export_data)\n",
    "# Push data to excel spreadsheet\n",
    "wb = Workbook()\n",
    "sheet1 = wb.add_sheet('Random Matrix Eigenvalues')\n",
    "# Column Headers\n",
    "sheet1.write(int(0), 0, \"n\")\n",
    "sheet1.write(int(0),1, \"Eigenvalues\")\n",
    "# Perm number\n",
    "rows = list(export_data.keys())\n",
    "i = 1\n",
    "for val in rows:\n",
    "    sheet1.write(int(i), 0, val)\n",
    "    i += 1\n",
    "# Eigenvalues\n",
    "r = 1\n",
    "for vals in export_data.values():\n",
    "    c = 1\n",
    "    for val in vals:\n",
    "        sheet1.write(int(r), int(c), str(val))\n",
    "        c += 1\n",
    "    r += 1    \n",
    "wb.save('xlwt random_matrix_eigenvals.xls')\n",
    "\n",
    "# Scale eigenvalues\n",
    "weighted_export = dict()\n",
    "i = 3\n",
    "for m in export_data.values():\n",
    "    length = len(m) - 1\n",
    "    lambda_1 = m[0]\n",
    "    lambda_n = m[-1]\n",
    "    vals = list()\n",
    "    for e in m:\n",
    "        e_weighted = (length/(lambda_1 - lambda_n))*e\n",
    "        vals.append(e_weighted)\n",
    "    weighted_export[i] = vals\n",
    "    i += 1\n",
    "\n",
    "# Push data to excel spreadsheet\n",
    "sheet2 = wb.add_sheet('Random Matrix Eigenvals Scaled')\n",
    "# Column Headers\n",
    "sheet2.write(int(0), 0, \"n\")\n",
    "sheet2.write(int(0),1, \"Eigenvalues\")\n",
    "# Perm number\n",
    "rows = list(weighted_export.keys())\n",
    "i = 1\n",
    "for val in rows:\n",
    "    sheet2.write(int(i), int(0), str(val))\n",
    "    i += 1\n",
    "# Eigenvalues\n",
    "r = 1\n",
    "for vals in weighted_export.values():\n",
    "    c = 1\n",
    "    for val in vals:\n",
    "        sheet2.write(int(r), int(c), str(val))\n",
    "        c += 1\n",
    "    r += 1    \n",
    "wb.save('xlwt random_matrix_eigenvals_weighted.xls')\n",
    "\n",
    "# Make histogram for n = 100\n",
    "plt.hist(list(weighted_export[100]), density=True, bins=100, range=[int(-2),int(2)])  # density=False would make counts\n",
    "plt.ylabel('Num Occurences')\n",
    "plt.xlabel('Eigenvalues');\n",
    "plt.show()"
   ]
  },
  {
   "cell_type": "markdown",
   "metadata": {},
   "source": [
    "## TODO: Change manner of creating matrix so that the matrix is chosen with a normal distribution from [0,1] with mean 0 and standard deviation of 1"
   ]
  },
  {
   "cell_type": "markdown",
   "metadata": {},
   "source": [
    "# 200 Real 50x50 Symmetric Matrices\n",
    "## Normal Distribution"
   ]
  },
  {
   "cell_type": "code",
   "execution_count": 2,
   "metadata": {},
   "outputs": [
    {
     "data": {
      "image/png": "[encoded data removed]",
      "text/plain": [
       "<Figure size 432x288 with 1 Axes>"
      ]
     },
     "metadata": {
      "needs_background": "light"
     },
     "output_type": "display_data"
    }
   ],
   "source": [
    "import numpy as np\n",
    "import xlwt\n",
    "from xlwt import Workbook\n",
    "import matplotlib.pyplot as plt\n",
    "\n",
    "all_eigenvals = []\n",
    "# Produce 200 50x50 random real symmetric matrices\n",
    "for i in range(200):\n",
    "    # Generate the symmetric random matrix\n",
    "    M = np.random.rand(50, 50)\n",
    "    S = np.matmul(M,M.T)\n",
    "    \n",
    "    # Get eigenvalues\n",
    "    eigenvals = np.linalg.eigvalsh(S)\n",
    "    for e in eigenvals:\n",
    "        all_eigenvals.append(e)\n",
    "    \n",
    "# Scale eigenvalues\n",
    "all_eigenvals_weighted = list()\n",
    "length = len(all_eigenvals) - 1\n",
    "lambda_1 = min(all_eigenvals)\n",
    "lambda_n = max(all_eigenvals)\n",
    "for val in all_eigenvals:\n",
    "    e_weighted = (length/(lambda_n - lambda_1))*val\n",
    "    all_eigenvals_weighted.append(e_weighted)\n",
    "    \n",
    "# Make histogram\n",
    "plt.hist(all_eigenvals_weighted, density=True, bins=200, range=[int(-25),int(25)])  # density=False would make counts\n",
    "plt.ylabel('Num Occurences')\n",
    "plt.xlabel('Eigenvalues');\n",
    "plt.show()\n",
    "    "
   ]
  },
  {
   "cell_type": "code",
   "execution_count": 56,
   "metadata": {
    "scrolled": true
   },
   "outputs": [
    {
     "name": "stdout",
     "output_type": "stream",
     "text": [
      "[[ 1.17310455 -1.32824837 -1.48831375  0.81723952  0.29820726]\n",
      " [-1.32824837 -2.43597483  0.73633338  1.02184096  0.59860831]\n",
      " [-1.48831375  0.73633338 -1.15371012 -0.23099457 -0.69772946]\n",
      " [ 0.81723952  1.02184096 -0.23099457 -0.88551071  0.22148652]\n",
      " [ 0.29820726  0.59860831 -0.69772946  0.22148652 -0.93880734]]\n",
      "[0.0, 0.24642574929582892, 0.4488981773476261, 0.574327197725492, 1.0]\n"
     ]
    },
    {
     "data": {
      "image/png": "[encoded data removed]",
      "text/plain": [
       "<Figure size 432x288 with 1 Axes>"
      ]
     },
     "metadata": {
      "needs_background": "light"
     },
     "output_type": "display_data"
    }
   ],
   "source": [
    "import numpy as np\n",
    "import xlwt\n",
    "from xlwt import Workbook\n",
    "import matplotlib.pyplot as plt\n",
    "\n",
    "s = np.random.normal(0, 1, size=(5,5))\n",
    "\n",
    "rows = s.shape[0]\n",
    "cols = s.shape[1]\n",
    "for i in range(0, rows):\n",
    "    for j in range(i+1, cols):\n",
    "        s[j,i] = s[i,j]\n",
    "print(s)\n",
    "\n",
    "# Get eigenvalues\n",
    "eigenvals = np.linalg.eigvalsh(s)\n",
    "\n",
    "    \n",
    "# Scale eigenvalues\n",
    "all_eigenvals_weighted = list()\n",
    "length = len(eigenvals) - 1\n",
    "lambda_1 = min(eigenvals)\n",
    "lambda_n = max(eigenvals)\n",
    "for val in eigenvals:\n",
    "    e_weighted = (val-lambda_1)/(lambda_n-lambda_1)\n",
    "    all_eigenvals_weighted.append(e_weighted)\n",
    "print(all_eigenvals_weighted)    \n",
    "\n",
    " # Make histogram\n",
    "plt.hist(all_eigenvals_weighted, density=True, bins=200, range=[float(-0.02),float(1.2)])  # density=False would make counts\n",
    "plt.ylabel('Num Occurences')\n",
    "plt.xlabel('Eigenvalues');\n",
    "plt.show()\n",
    "\n"
   ]
  },
  {
   "cell_type": "markdown",
   "metadata": {},
   "source": [
    "# 200 Real 50x50 Symmetric Matrices\n",
    "## Uniform Distribution"
   ]
  },
  {
   "cell_type": "code",
   "execution_count": 3,
   "metadata": {},
   "outputs": [
    {
     "name": "stdout",
     "output_type": "stream",
     "text": [
      "[[0.66908758 0.09594791 0.14130954 0.51239059 0.56726407]\n",
      " [0.09594791 0.95270808 0.3561657  0.31398172 0.56296985]\n",
      " [0.14130954 0.3561657  0.61445175 0.4380848  0.54954044]\n",
      " [0.51239059 0.31398172 0.4380848  0.42919136 0.90395534]\n",
      " [0.56726407 0.56296985 0.54954044 0.90395534 0.81569427]]\n",
      "[0.0, 0.12365741940626078, 0.24071346802745408, 0.3838501311643675, 1.0]\n"
     ]
    },
    {
     "data": {
      "image/png": "[encoded data removed]",
      "text/plain": [
       "<Figure size 432x288 with 1 Axes>"
      ]
     },
     "metadata": {
      "needs_background": "light"
     },
     "output_type": "display_data"
    }
   ],
   "source": [
    "import numpy as np\n",
    "import xlwt\n",
    "from xlwt import Workbook\n",
    "import matplotlib.pyplot as plt\n",
    "\n",
    "s = np.random.uniform(0, 1, size=(5,5))\n",
    "\n",
    "rows = s.shape[0]\n",
    "cols = s.shape[1]\n",
    "for i in range(0, rows):\n",
    "    for j in range(i+1, cols):\n",
    "        s[j,i] = s[i,j]\n",
    "print(s)\n",
    "\n",
    "# Get eigenvalues\n",
    "eigenvals = np.linalg.eigvalsh(s)\n",
    "\n",
    "    \n",
    "# Scale eigenvalues\n",
    "all_eigenvals_weighted = list()\n",
    "length = len(eigenvals) - 1\n",
    "lambda_1 = min(eigenvals)\n",
    "lambda_n = max(eigenvals)\n",
    "for val in eigenvals:\n",
    "    e_weighted = (val-lambda_1)/(lambda_n-lambda_1)\n",
    "    all_eigenvals_weighted.append(e_weighted)\n",
    "print(all_eigenvals_weighted)    \n",
    "\n",
    " # Make histogram\n",
    "plt.hist(all_eigenvals_weighted, density=True, bins=200, range=[float(-0.02),float(1.2)])  # density=False would make counts\n",
    "plt.ylabel('Num Occurences')\n",
    "plt.xlabel('Eigenvalues');\n",
    "plt.show()"
   ]
  },
  {
   "cell_type": "markdown",
   "metadata": {},
   "source": [
    "# Uniform Distribution"
   ]
  },
  {
   "cell_type": "code",
   "execution_count": 8,
   "metadata": {},
   "outputs": [
    {
     "data": {
      "image/png": "[encoded data removed]",
      "text/plain": [
       "<Figure size 432x288 with 1 Axes>"
      ]
     },
     "metadata": {
      "needs_background": "light"
     },
     "output_type": "display_data"
    }
   ],
   "source": [
    "import numpy as np\n",
    "import xlwt\n",
    "import random\n",
    "from xlwt import Workbook\n",
    "import matplotlib.pyplot as plt\n",
    "\n",
    "nums = []\n",
    "# Generate uniform numbers\n",
    "for i in range(50):\n",
    "    num = random.uniform(0, 1)\n",
    "    nums.append(num)\n",
    "    \n",
    "# Make histogram\n",
    "plt.hist(nums, density=True, bins=200, range=[float(-.02),float(1.02)])  # density=False would make counts\n",
    "plt.ylabel('Num Occurences')\n",
    "plt.xlabel('Eigenvalues');\n",
    "plt.show()"
   ]
  },
  {
   "cell_type": "markdown",
   "metadata": {},
   "source": [
    "# Poisson Spectrum"
   ]
  },
  {
   "cell_type": "code",
   "execution_count": 16,
   "metadata": {},
   "outputs": [
    {
     "data": {
      "image/png": "[encoded data removed]",
      "text/plain": [
       "<Figure size 432x288 with 1 Axes>"
      ]
     },
     "metadata": {
      "needs_background": "light"
     },
     "output_type": "display_data"
    }
   ],
   "source": [
    "import numpy as np\n",
    "import xlwt\n",
    "import random\n",
    "from xlwt import Workbook\n",
    "import matplotlib.pyplot as plt\n",
    "\n",
    "nums = []\n",
    "# Generate uniform numbers\n",
    "for i in range(50):\n",
    "    # params: lambda, size\n",
    "    num = np.random.poisson(1.0)\n",
    "    nums.append(num)\n",
    "\n",
    "# Make histogram\n",
    "plt.hist(nums, density=True, bins=200, range=[float(-.02),float(1.02)])  # density=False would make counts\n",
    "plt.ylabel('Num Occurences')\n",
    "plt.xlabel('Eigenvalues');\n",
    "plt.show()"
   ]
  },
  {
   "cell_type": "markdown",
   "metadata": {},
   "source": [
    "# Cyclic Permutations n-gons with Opposite Edges"
   ]
  },
  {
   "cell_type": "markdown",
   "metadata": {},
   "source": [
    "# Notes from Finite Models for Arithmetical Chaos\n",
    "\n",
    "Focusing on using random symmetric matrices and other symmetric matrices, we will be studying the spectra of the eigenvalues.\n",
    "\n",
    "These are all operators on Hilbert Spaces **(what are Hilbert Spaces)?**\n",
    "Quantum physics (eigenvalues of Schrodinger operator), Geometry/number theory (L Laplace operator on Riemannian manifold M), and the graph theory branch\n",
    "\n",
    "Graph theory focus: statistic of spectrum of the adjacency operator of a Cayley graph of a finite group - \"finite quantum chaos\" (right branch on the tree)\n",
    "The zeros of the various zeta functions (roots of the tree) sometimes correspond with eigenvalues of the operators at the top of the tree (what we are studying - with focus on right branch)\n",
    "\n",
    "**Classify these into branches**\n",
    "Different columns to create: Poisson, Primer, half life, Sinai, Zeros, Uniform, Mod group 2, finite upper half plane\n",
    "\n",
    "Trace formulas?\n",
    "\n",
    "## Quantum Mechanics\n",
    "\n",
    "***Definition:*** The energy levels E of a physical system are the eigenvalues of a Schrodinger equation H*phi* = E*phi*, where H is the Hamiltonian (a differential operator), and phi is the state function (eigenfunction of H), and E is the energy level (eigenvalue of H).\n",
    "\n",
    "BUT, it is usually hard to use this to know all the energy levels. Thus, we turn to statistical theory. Symmetry group (groups of motions commuting with H) have a big effect on the energy levels. **Need more info on this**\n",
    "\n",
    "Wigner model: model H with large real symmetric nxn matrices whose entries are independent Gaussian random variables\n",
    "-> random matrices\n",
    "-> eigenvalues look like a semi-circle **Replicate this**\n",
    "-> 200 real, symmetric 50x50 matrices with entries chosen according to normal distribution\n",
    "Shows no similarity to observed distribution in spectra \n",
    "Common in number/graph theory\n",
    "\n",
    "This is why physicists have devoted more attention to histograms of level spacings rather than levels. -> eigenvals in decreasing order, normalized to 1. Then, get histogram. Histogram looks like Poisson and GOE\n",
    "**Poisson**: Wigner surmise -> Gaudin-Mehta distribution function (complicated but can be calculated online). \n",
    "**Key takeaway:** For integrable systems, the eigenvalues follow Poisson behavior, eigenvalues of chaotic systems follow GOE distribution\n",
    "**Idea:** Create histograms of eigenvalues and compare them to the Poisson and GOE distributions\n",
    "**GOE (Gaussian Orthogonal Ensemble):** The eigenvalues of a random nxn symmetric real matrix as n goes to infinity\n",
    "-> many experimental studies comparing GOE prediction and nuclear data\n",
    "-> requirement for inclusion in the nuclear data ensemble is that the individual sequences must be in general agreement with GOE\n",
    "\n",
    "## Arithmetic Quantum Chaos\n",
    "\n",
    "Involves objects of interest which may or may not be known to be related to eigenvalues of operators, objects include zeros of zeta functions and eigenvalues of Laplacians on quotients of arithmetic groups\n",
    "\n",
    "**Riemann zeta function need more understanding**\n",
    "Non-real zeros are on the line of 1/2\n",
    "The statistics of Reimann zeta zeros and the statistics of the energy levels of quantum systems are related -> this statement is somehow connected to the statement that for a large n, the level spacings look like that of a Gaussian unitary ensemble (GUE)\n",
    "-> then the paper gives an approximation fxn for programming purposes\n",
    "the eigenfunctions are spheroidal waves\n",
    "**Overall I'm just very confused with section 3.1**\n",
    "\n",
    "**Eigenvalues on the Laplacian on Riemannian Manifolds**\n",
    "**Section 3.2 also confuses me**\n",
    "**I need help on this section** \n",
    "\n",
    "## Graph Theory\n",
    "\n",
    "The spectrum of a partial differential operator (like Schrodinger, Laplace, or Riemann) is a topic in linear algebra on infinite dimension vector spaces\n",
    "Taking the infinite space and replace with a finite dimensional version (**what we are working on right now)**\n",
    "Replacing the differential operator with a finite analogue - the adjacency matrix/operator of a graph\n",
    "Reasonable model for a molecule\n",
    "Seeks to study things such has the stability of a molecule by computing a constant from the eigenvalues of A\n",
    "Ramanujan graphs connected k-regular graphs with smallest possible asymptotic bound on eigenvalues\n",
    "-> Ihara zeta fxn satisfies analogue of Riemann hypothesis\n",
    "\n",
    "-> Euclidean & finite upper half plane graphs\n",
    "\n",
    "Generic k-regular graphs level spacing dist. looks like GOE as the number of vertices goes to infinity\n",
    "\n",
    "**Want to look at how these level spacings behave as vertices approaches infinity**\n",
    "\n",
    "GL(2, F)\n",
    "\n",
    "If Cayley graph G is the cyclic group Z/nZ, complete orthogonal set of eigenfunctions of A are the characters of G\n",
    "\n",
    "**Replicate** Cumulative distribution for the level spacings of ten 4-regular graphs on 2,000 vertices generated by running a Markov chain for 10^8 steps looks remarkably similar to the cumulative dist. fxn for the Wigner surmise\n",
    "Cumulative dist. fxn for eigenvalue spacings of Cayley graph X(SL(2, Z/157Z), {t, t^-1, w, w^-1}) excluding first and second largest eigenvalues looks extremely close to Poisson cumulative dist.\n",
    "\n",
    "Histograms of various Cayley graphs\n",
    "Euclidean plane graph\n",
    "Kloosterman sums **what** implies that the finite Euclidean graphs are Ramanujan when p=3(mod4)\n",
    "Finite Euclidean graphs can be Ramanujan or not\n",
    "\n",
    "We can replace infinite Euclidean plane with finite non-Euclidean \"upper\" half plane\n",
    "\n",
    "**Larger groups and butterflies**\n",
    "Heisenburg group\n",
    "\n",
    "# Three Symmetric Spaces (Part 2)\n",
    "\n",
    "Ihara Zeta function, the reciprocal of a polynomial, no zeros\n",
    "Only consider poles of Riemann hypothesis\n",
    "\n",
    "Comparing Selberg trace formula in 3 spaces\n",
    "\n"
   ]
  },
  {
   "cell_type": "markdown",
   "metadata": {},
   "source": [
    "# Notes\n",
    "\n",
    "Zeta fxns roots match up with eigenvalues \n",
    "Z fxns encode eigenvals, helps us see symmetries of eigenvals\n",
    "Conversely, operator's eigenvals help see zeta fxn's properties \n",
    "Mostly a motivation!!!\n",
    "\n",
    "finding spectra of operators important for:\n",
    "q mechs"
   ]
  }
 ],
 "metadata": {
  "kernelspec": {
   "display_name": "SageMath 9.4",
   "language": "sage",
   "name": "sagemath-9.4"
  },
  "language_info": {
   "codemirror_mode": {
    "name": "ipython",
    "version": 3
   },
   "file_extension": ".py",
   "mimetype": "text/x-python",
   "name": "python",
   "nbconvert_exporter": "python",
   "pygments_lexer": "ipython3",
   "version": "3.9.5"
  }
 },
 "nbformat": 4,
 "nbformat_minor": 4
}
