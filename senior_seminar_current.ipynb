{
 "cells": [
  {
   "cell_type": "markdown",
   "metadata": {},
   "source": [
    "# Cyclic Permutations of n-gons"
   ]
  },
  {
   "cell_type": "markdown",
   "metadata": {},
   "source": [
    "Observations:\n",
    "* Repeating eigenvalues except for 2 and -2 (at 48 permutation group)\n",
    "* Larger gaps in the center, gaps get smaller towards edges"
   ]
  },
  {
   "cell_type": "code",
   "execution_count": 36,
   "metadata": {
    "scrolled": true
   },
   "outputs": [
    {
     "data": {
      "image/png": "[encoded data removed]",
      "text/plain": [
       "<Figure size 432x288 with 1 Axes>"
      ]
     },
     "metadata": {
      "needs_background": "light"
     },
     "output_type": "display_data"
    }
   ],
   "source": [
    "#import cmath\n",
    "import matplotlib.pyplot as plt\n",
    "\n",
    "export_data = dict()\n",
    "all_eigenvals = list()\n",
    "\n",
    "for i in range(3,101):\n",
    "    C = groups.permutation.Cyclic(i)\n",
    "    # Make generating set\n",
    "    s1 = tuple(range(1,i+1))\n",
    "    s_ = [1] + list(range(i, 1, -1))\n",
    "    s2 = tuple(s_)\n",
    "    S = [s1,s2]\n",
    "    # Produce Cayley Graph\n",
    "    d = C.cayley_graph(generators=S)\n",
    "    d = d.to_undirected()\n",
    "    # Adjacency matrix fxn\n",
    "    A = d.adjacency_matrix()\n",
    "    # Get Eigenvalues\n",
    "    eigenvals = A.eigenvalues()\n",
    "    for e in eigenvals:\n",
    "        all_eigenvals.append(e)\n",
    "    export_data[i] = eigenvals\n",
    "\n",
    "\n",
    "# Scale eigenvalues within dictionary\n",
    "weighted_export = dict()\n",
    "i = 3\n",
    "for m in export_data.values():\n",
    "    length = len(m) - 1\n",
    "    lambda_1 = min(m)\n",
    "    lambda_n = max(m)\n",
    "    vals = list()\n",
    "    for e in m:\n",
    "        e_weighted = (e-lambda_1)/(lambda_n-lambda_1)\n",
    "        ##TODO: get rid of question mark ###\n",
    "        # Omit the non-real portion of any complex number\n",
    "        # .real()\n",
    "        # RealField() Floating number with arbitrary (still fixed) many bits of precision\n",
    "        vals.append(RR(e_weighted))\n",
    "    weighted_export[i] = vals\n",
    "    i += 1\n",
    "\n",
    "# Scale eigenvalues within list\n",
    "weighted_all_eigenvals = list()\n",
    "length = len(all_eigenvals) - 1\n",
    "lambda_1 = min(all_eigenvals)\n",
    "lambda_n = max(all_eigenvals)\n",
    "i = 3\n",
    "for m in all_eigenvals:\n",
    "    e_weighted = (e-lambda_1)/(lambda_n-lambda_1)\n",
    "    weighted_all_eigenvals.append(RR(e_weighted))\n",
    "    i += 1\n",
    "\n",
    "\"\"\"\n",
    "# Make histogram for all eigenvalues from cyclic permutations from cyclic groups 3 to 50\n",
    "plt.hist(weighted_all_eigenvals, density=False, bins=100)  \n",
    "plt.ylabel('Num Occurences')\n",
    "plt.xlabel('Eigenvalues');\n",
    "plt.show()    \n",
    "\n",
    "\"\"\"\n",
    "# Make histogram for n = 100\n",
    "plt.hist(list(weighted_export[100]), density=False, bins=100) \n",
    "plt.ylabel('Num Occurences')\n",
    "plt.xlabel('Eigenvalues');\n",
    "plt.show()\n"
   ]
  },
  {
   "cell_type": "markdown",
   "metadata": {},
   "source": [
    "# Cyclic Permutations n-gons with Opposite Edges"
   ]
  },
  {
   "cell_type": "markdown",
   "metadata": {},
   "source": [
    "* If we use a cyclic group with n = 2k elements (even number of elements)...\n",
    "* We can choose S = {1, k, 2k - 1} as our generating set.\n",
    "* The Cayley graph will produce the regular n-gon (from generators 1 and 2k - 1) and the diagonals of the regular n-gon (from the generator k).\n",
    "* Experiment using the cyclic group with n elements and choose different generating sets S. (One condition on S: if k is in S, so is n - k.)\n"
   ]
  },
  {
   "cell_type": "code",
   "execution_count": 88,
   "metadata": {},
   "outputs": [
    {
     "data": {
      "image/png": "[encoded data removed]",
      "text/plain": [
       "<Figure size 432x288 with 1 Axes>"
      ]
     },
     "metadata": {
      "needs_background": "light"
     },
     "output_type": "display_data"
    }
   ],
   "source": [
    "import matplotlib.pyplot as plt\n",
    "\n",
    "for i in range(3,49):\n",
    "    C = groups.permutation.Cyclic(i)\n",
    "    # Make generating set\n",
    "    s1 = tuple(range(1,i+1))\n",
    "    s_ = [1] + list(range(i, 1, -1))\n",
    "    s2 = tuple(s_)\n",
    "    s3 = []\n",
    "    #only if i is even\n",
    "    # Need to figure out how to multiply the permutations for s3\n",
    "    # recognize as perms and multiply together\n",
    "    #for j in range(1, (i/2)+1):\n",
    "        #s3.append((j, j+(i/2)))\n",
    "    S = [s1,s2]\n",
    "    #print(S)\n",
    "   \n",
    "    # Produce Cayley Graph\n",
    "    d = C.cayley_graph(generators=S)\n",
    "    d = d.to_undirected()\n",
    "    \n",
    "    # Adjacency matrix fxn\n",
    "    A = d.adjacency_matrix()\n",
    "\n",
    "    # Get Eigenvalues\n",
    "    eigenvals = A.eigenvalues()\n",
    "    export_data[i] = eigenvals\n",
    "    \n",
    "# Scale eigenvalues\n",
    "weighted_export = dict()\n",
    "i = 3\n",
    "for m in export_data.values():\n",
    "    length = len(m) - 1\n",
    "    lambda_1 = min(m)\n",
    "    lambda_n = max(m)\n",
    "    vals = list()\n",
    "    for e in m:\n",
    "        e_weighted = (e-lambda_1)/(lambda_n-lambda_1)\n",
    "        ##TODO: get rid of question mark ###\n",
    "        # Omit the non-real portion of any complex number\n",
    "        # .real()\n",
    "        # RealField() Floating number with arbitrary (still fixed) many bits of precision\n",
    "        vals.append(RR(e_weighted))\n",
    "    weighted_export[i] = vals\n",
    "    i += 1\n",
    "\n",
    "# Make histogram for n = 100\n",
    "plt.hist(list(weighted_export[48]), density=False, bins=100)  # density=False would make counts\n",
    "plt.ylabel('Num Occurences')\n",
    "plt.xlabel('Eigenvalues');\n",
    "plt.show()\n"
   ]
  },
  {
   "cell_type": "markdown",
   "metadata": {},
   "source": [
    "# Random Adjacency Matrices with Zero Diagonal\n",
    "### Looks like adjacency matrix (vertex never has edge with itself)\n",
    "* Binomial dist. and pick either 0 or 1 (50-50 prob to start, then can look at other examples - sparse/dense graphs). Populate diagonal with zeros. Symmetric.\n",
    "* Do these distributions look similar to the distributions yielded from the special Cayley graphs?\n",
    "\n",
    "Observations:\n",
    "* As the success rate decreases, the spread of the eigenvalues increases. Eigenvalues between 0 and .4 with .5 success, always 1 eigenvalue at 1. Why?"
   ]
  },
  {
   "cell_type": "code",
   "execution_count": 65,
   "metadata": {
    "scrolled": true
   },
   "outputs": [
    {
     "data": {
      "image/png": "[encoded data removed]",
      "text/plain": [
       "<Figure size 432x288 with 1 Axes>"
      ]
     },
     "metadata": {
      "needs_background": "light"
     },
     "output_type": "display_data"
    }
   ],
   "source": [
    "import numpy as np\n",
    "import matplotlib.pyplot as plt\n",
    "\n",
    "# num trials, success rate, size\n",
    "s = np.random.binomial(1, .5, size=(50,50))\n",
    "rows = s.shape[0]\n",
    "cols = s.shape[1]\n",
    "for i in range(0, rows):\n",
    "    for j in range(i+1, cols):\n",
    "        s[j,i] = s[i,j]\n",
    "np.fill_diagonal(s, 0)\n",
    "\n",
    "# Get eigenvalues\n",
    "eigenvals = np.linalg.eigvalsh(s)    \n",
    "# Scale eigenvalues\n",
    "all_eigenvals_weighted = list()\n",
    "length = len(eigenvals) - 1\n",
    "lambda_1 = min(eigenvals)\n",
    "lambda_n = max(eigenvals)\n",
    "for val in eigenvals:\n",
    "    e_weighted = (val-lambda_1)/(lambda_n-lambda_1)\n",
    "    all_eigenvals_weighted.append(e_weighted)\n",
    "    \n",
    " # Make histogram\n",
    "plt.hist(all_eigenvals_weighted, density=False, bins=200, range=[float(-0.02),float(1.2)])  # density=False would make counts\n",
    "plt.ylabel('Num Occurences')\n",
    "plt.xlabel('Eigenvalues');\n",
    "plt.show()\n"
   ]
  },
  {
   "cell_type": "markdown",
   "metadata": {},
   "source": [
    "# 200 Real 50x50 Symmetric Matrices\n",
    "## Normal Distribution"
   ]
  },
  {
   "cell_type": "code",
   "execution_count": 70,
   "metadata": {
    "scrolled": true
   },
   "outputs": [
    {
     "data": {
      "image/png": "[encoded data removed]",
      "text/plain": [
       "<Figure size 432x288 with 1 Axes>"
      ]
     },
     "metadata": {
      "needs_background": "light"
     },
     "output_type": "display_data"
    }
   ],
   "source": [
    "import numpy as np\n",
    "import matplotlib.pyplot as plt\n",
    "\n",
    "all_eigenvals = list()\n",
    "for i in range(200):\n",
    "    s = np.random.normal(0, 1, size=(50,50))\n",
    "\n",
    "    rows = s.shape[0]\n",
    "    cols = s.shape[1]\n",
    "    for i in range(0, rows):\n",
    "        for j in range(i+1, cols):\n",
    "            s[j,i] = s[i,j]\n",
    "\n",
    "    # Get eigenvalues\n",
    "    eigenvals = np.linalg.eigvalsh(s)\n",
    "    for e in eigenvals:\n",
    "        all_eigenvals.append(e)\n",
    "    \n",
    "# Scale eigenvalues\n",
    "all_eigenvals_weighted = list()\n",
    "length = len(all_eigenvals) - 1\n",
    "lambda_1 = min(all_eigenvals)\n",
    "lambda_n = max(all_eigenvals)\n",
    "for val in eigenvals:\n",
    "    e_weighted = (val-lambda_1)/(lambda_n-lambda_1)\n",
    "    all_eigenvals_weighted.append(e_weighted)\n",
    "    \n",
    " # Make histogram\n",
    "plt.hist(all_eigenvals_weighted, density=False, bins=200, range=[float(-0.02),float(1.2)])  # density=False would make counts\n",
    "plt.ylabel('Num Occurences')\n",
    "plt.xlabel('Eigenvalues');\n",
    "plt.show()\n"
   ]
  },
  {
   "cell_type": "markdown",
   "metadata": {},
   "source": [
    "# 200 Real 50x50 Symmetric Matrices\n",
    "## Uniform Distribution\n",
    "Observations: \n",
    "* Looks a lot like the random adjacency matrices (with binomial dist.)"
   ]
  },
  {
   "cell_type": "code",
   "execution_count": 77,
   "metadata": {},
   "outputs": [
    {
     "data": {
      "image/png": "[encoded data removed]",
      "text/plain": [
       "<Figure size 432x288 with 1 Axes>"
      ]
     },
     "metadata": {
      "needs_background": "light"
     },
     "output_type": "display_data"
    }
   ],
   "source": [
    "import numpy as np\n",
    "import matplotlib.pyplot as plt\n",
    "\n",
    "all_eigenvals = list()\n",
    "for i in range(200):\n",
    "    s = np.random.uniform(0, 1, size=(50,50))\n",
    "\n",
    "    rows = s.shape[0]\n",
    "    cols = s.shape[1]\n",
    "    for i in range(0, rows):\n",
    "        for j in range(i+1, cols):\n",
    "            s[j,i] = s[i,j]\n",
    "\n",
    "    # Get eigenvalues\n",
    "    eigenvals = np.linalg.eigvalsh(s)\n",
    "    for e in eigenvals:\n",
    "        all_eigenvals.append(e)\n",
    "\n",
    "# Scale eigenvalues\n",
    "all_eigenvals_weighted = list()\n",
    "length = len(all_eigenvals) - 1\n",
    "lambda_1 = min(all_eigenvals)\n",
    "lambda_n = max(all_eigenvals)\n",
    "for val in eigenvals:\n",
    "    e_weighted = (val-lambda_1)/(lambda_n-lambda_1)\n",
    "    all_eigenvals_weighted.append(e_weighted)\n",
    "    \n",
    " # Make histogram\n",
    "plt.hist(all_eigenvals_weighted, density=False, bins=200, range=[float(-0.02),float(1.2)])  # density=False would make counts\n",
    "plt.ylabel('Num Occurences')\n",
    "plt.xlabel('Eigenvalues');\n",
    "plt.show()"
   ]
  },
  {
   "cell_type": "markdown",
   "metadata": {},
   "source": [
    "# Uniform Distribution"
   ]
  },
  {
   "cell_type": "code",
   "execution_count": 83,
   "metadata": {},
   "outputs": [
    {
     "data": {
      "image/png": "[encoded data removed]",
      "text/plain": [
       "<Figure size 432x288 with 1 Axes>"
      ]
     },
     "metadata": {
      "needs_background": "light"
     },
     "output_type": "display_data"
    }
   ],
   "source": [
    "import numpy as np\n",
    "import matplotlib.pyplot as plt\n",
    "\n",
    "nums = []\n",
    "# Generate uniform numbers\n",
    "for i in range(50):\n",
    "    num = np.random.uniform(0, 1)\n",
    "    nums.append(num)\n",
    "    \n",
    "weighted_nums = list()\n",
    "length = len(nums) - 1\n",
    "lambda_1 = min(nums)\n",
    "lambda_n = max(nums)\n",
    "for num in nums:\n",
    "    n_weighted = (num-lambda_1)/(lambda_n-lambda_1)\n",
    "    weighted_nums.append(n_weighted) \n",
    "    \n",
    "# Make histogram\n",
    "plt.hist(weighted_nums, density=False, bins=200, range=[float(-.02),float(1.02)])  # density=False would make counts\n",
    "plt.ylabel('Num Occurences')\n",
    "plt.xlabel('Nums');\n",
    "plt.show()"
   ]
  },
  {
   "cell_type": "markdown",
   "metadata": {},
   "source": [
    "# Poisson Spectrum"
   ]
  },
  {
   "cell_type": "code",
   "execution_count": 87,
   "metadata": {},
   "outputs": [
    {
     "data": {
      "image/png": "[encoded data removed]",
      "text/plain": [
       "<Figure size 432x288 with 1 Axes>"
      ]
     },
     "metadata": {
      "needs_background": "light"
     },
     "output_type": "display_data"
    }
   ],
   "source": [
    "import numpy as np\n",
    "import random\n",
    "import matplotlib.pyplot as plt\n",
    "\n",
    "nums = []\n",
    "# Generate Poission numbers\n",
    "for i in range(50):\n",
    "    # params: lambda, size\n",
    "    num = np.random.poisson(500)\n",
    "    nums.append(num)\n",
    "    \n",
    "weighted_nums = list()\n",
    "length = len(nums) - 1\n",
    "lambda_1 = min(nums)\n",
    "lambda_n = max(nums)\n",
    "for num in nums:\n",
    "    n_weighted = (num-lambda_1)/(lambda_n-lambda_1)\n",
    "    weighted_nums.append(n_weighted)\n",
    "\n",
    "# Make histogram\n",
    "plt.hist(weighted_nums, density=False, bins=200, range=[float(-.02),float(1.02)])  # density=False would make counts\n",
    "plt.ylabel('Num Occurences')\n",
    "plt.xlabel('Values');\n",
    "plt.show()"
   ]
  },
  {
   "cell_type": "markdown",
   "metadata": {},
   "source": [
    "# Notes from Finite Models for Arithmetical Chaos\n",
    "\n",
    "Focusing on using random symmetric matrices and other symmetric matrices, we will be studying the spectra of the eigenvalues.\n",
    "\n",
    "These are all operators on Hilbert Spaces **(what are Hilbert Spaces)?**\n",
    "Quantum physics (eigenvalues of Schrodinger operator), Geometry/number theory (L Laplace operator on Riemannian manifold M), and the graph theory branch\n",
    "\n",
    "Graph theory focus: statistic of spectrum of the adjacency operator of a Cayley graph of a finite group - \"finite quantum chaos\" (right branch on the tree)\n",
    "The zeros of the various zeta functions (roots of the tree) sometimes correspond with eigenvalues of the operators at the top of the tree (what we are studying - with focus on right branch)\n",
    "\n",
    "**Classify these into branches**\n",
    "Different columns to create: Poisson, Primer, half life, Sinai, Zeros, Uniform, Mod group 2, finite upper half plane\n",
    "\n",
    "Trace formulas?\n",
    "\n",
    "## Quantum Mechanics\n",
    "\n",
    "***Definition:*** The energy levels E of a physical system are the eigenvalues of a Schrodinger equation H*phi* = E*phi*, where H is the Hamiltonian (a differential operator), and phi is the state function (eigenfunction of H), and E is the energy level (eigenvalue of H).\n",
    "\n",
    "BUT, it is usually hard to use this to know all the energy levels. Thus, we turn to statistical theory. Symmetry group (groups of motions commuting with H) have a big effect on the energy levels. **Need more info on this**\n",
    "\n",
    "Wigner model: model H with large real symmetric nxn matrices whose entries are independent Gaussian random variables\n",
    "-> random matrices\n",
    "-> eigenvalues look like a semi-circle **Replicate this**\n",
    "-> 200 real, symmetric 50x50 matrices with entries chosen according to normal distribution\n",
    "Shows no similarity to observed distribution in spectra \n",
    "Common in number/graph theory\n",
    "\n",
    "This is why physicists have devoted more attention to histograms of level spacings rather than levels. -> eigenvals in decreasing order, normalized to 1. Then, get histogram. Histogram looks like Poisson and GOE\n",
    "**Poisson**: Wigner surmise -> Gaudin-Mehta distribution function (complicated but can be calculated online). \n",
    "**Key takeaway:** For integrable systems, the eigenvalues follow Poisson behavior, eigenvalues of chaotic systems follow GOE distribution\n",
    "**Idea:** Create histograms of eigenvalues and compare them to the Poisson and GOE distributions\n",
    "**GOE (Gaussian Orthogonal Ensemble):** The eigenvalues of a random nxn symmetric real matrix as n goes to infinity\n",
    "-> many experimental studies comparing GOE prediction and nuclear data\n",
    "-> requirement for inclusion in the nuclear data ensemble is that the individual sequences must be in general agreement with GOE\n",
    "\n",
    "## Arithmetic Quantum Chaos\n",
    "\n",
    "Involves objects of interest which may or may not be known to be related to eigenvalues of operators, objects include zeros of zeta functions and eigenvalues of Laplacians on quotients of arithmetic groups\n",
    "\n",
    "**Riemann zeta function need more understanding**\n",
    "Non-real zeros are on the line of 1/2\n",
    "The statistics of Reimann zeta zeros and the statistics of the energy levels of quantum systems are related -> this statement is somehow connected to the statement that for a large n, the level spacings look like that of a Gaussian unitary ensemble (GUE)\n",
    "-> then the paper gives an approximation fxn for programming purposes\n",
    "the eigenfunctions are spheroidal waves\n",
    "**Overall I'm just very confused with section 3.1**\n",
    "\n",
    "**Eigenvalues on the Laplacian on Riemannian Manifolds**\n",
    "**Section 3.2 also confuses me**\n",
    "**I need help on this section** \n",
    "\n",
    "## Graph Theory\n",
    "\n",
    "The spectrum of a partial differential operator (like Schrodinger, Laplace, or Riemann) is a topic in linear algebra on infinite dimension vector spaces\n",
    "Taking the infinite space and replace with a finite dimensional version (**what we are working on right now)**\n",
    "Replacing the differential operator with a finite analogue - the adjacency matrix/operator of a graph\n",
    "Reasonable model for a molecule\n",
    "Seeks to study things such has the stability of a molecule by computing a constant from the eigenvalues of A\n",
    "Ramanujan graphs connected k-regular graphs with smallest possible asymptotic bound on eigenvalues\n",
    "-> Ihara zeta fxn satisfies analogue of Riemann hypothesis\n",
    "\n",
    "-> Euclidean & finite upper half plane graphs\n",
    "\n",
    "Generic k-regular graphs level spacing dist. looks like GOE as the number of vertices goes to infinity\n",
    "\n",
    "**Want to look at how these level spacings behave as vertices approaches infinity**\n",
    "\n",
    "GL(2, F)\n",
    "\n",
    "If Cayley graph G is the cyclic group Z/nZ, complete orthogonal set of eigenfunctions of A are the characters of G\n",
    "\n",
    "**Replicate** Cumulative distribution for the level spacings of ten 4-regular graphs on 2,000 vertices generated by running a Markov chain for 10^8 steps looks remarkably similar to the cumulative dist. fxn for the Wigner surmise\n",
    "Cumulative dist. fxn for eigenvalue spacings of Cayley graph X(SL(2, Z/157Z), {t, t^-1, w, w^-1}) excluding first and second largest eigenvalues looks extremely close to Poisson cumulative dist.\n",
    "\n",
    "Histograms of various Cayley graphs\n",
    "Euclidean plane graph\n",
    "Kloosterman sums **what** implies that the finite Euclidean graphs are Ramanujan when p=3(mod4)\n",
    "Finite Euclidean graphs can be Ramanujan or not\n",
    "\n",
    "We can replace infinite Euclidean plane with finite non-Euclidean \"upper\" half plane\n",
    "\n",
    "**Larger groups and butterflies**\n",
    "Heisenburg group\n",
    "\n",
    "# Three Symmetric Spaces (Part 2)\n",
    "\n",
    "Ihara Zeta function, the reciprocal of a polynomial, no zeros\n",
    "Only consider poles of Riemann hypothesis\n",
    "\n",
    "Comparing Selberg trace formula in 3 spaces\n",
    "\n"
   ]
  },
  {
   "cell_type": "markdown",
   "metadata": {},
   "source": [
    "# Notes\n",
    "\n",
    "Zeta fxns roots match up with eigenvalues \n",
    "Z fxns encode eigenvals, helps us see symmetries of eigenvals\n",
    "Conversely, operator's eigenvals help see zeta fxn's properties \n",
    "Mostly a motivation!!!\n",
    "\n",
    "finding spectra of operators important for:\n",
    "q mechs"
   ]
  },
  {
   "cell_type": "markdown",
   "metadata": {},
   "source": [
    "### If Needed: Code to push to excel spreadsheet"
   ]
  },
  {
   "cell_type": "code",
   "execution_count": 3,
   "metadata": {
    "scrolled": true
   },
   "outputs": [
    {
     "data": {
      "text/plain": [
       "'\\n# Push data to excel spreadsheet\\nsheet2 = wb.add_sheet(\\'Cyclic Perms Eigenvalues Scaled\\')\\n# Column Headers\\nsheet2.write(int(0), 0, \"n\")\\nsheet2.write(int(0),1, \"Eigenvalues\")\\n# Perm number\\nrows = list(weighted_export.keys())\\ni = 1\\nfor val in rows:\\n    sheet2.write(int(i), int(0), str(val))\\n    i += 1\\n# Eigenvalues\\nr = 1\\nfor vals in weighted_export.values():\\n    c = 1\\n    for val in vals:\\n        sheet2.write(int(r), int(c), str(val))\\n        c += 1\\n    r += 1    \\nwb.save(\\'xlwt cyclic_perms_eigenvals_weighted.xls\\')\\n'"
      ]
     },
     "execution_count": 3,
     "metadata": {},
     "output_type": "execute_result"
    }
   ],
   "source": [
    "#import xlwt\n",
    "#from xlwt import Workbook\n",
    "\"\"\"\n",
    "# Push data to excel spreadsheet\n",
    "wb = Workbook()\n",
    "sheet1 = wb.add_sheet('Cyclic Perms Eigenvalues')\n",
    "# Column Headers\n",
    "sheet1.write(int(0), 0, \"n\")\n",
    "sheet1.write(int(0),1, \"Eigenvalues\")\n",
    "# Perm number\n",
    "rows = list(export_data.keys())\n",
    "i = 1\n",
    "for val in rows:\n",
    "    sheet1.write(int(i), 0, val)\n",
    "    i += 1\n",
    "# Eigenvalues\n",
    "r = 1\n",
    "for vals in export_data.values():\n",
    "    c = 1\n",
    "    for val in vals:\n",
    "        sheet1.write(int(r), int(c), str(val))\n",
    "        c += 1\n",
    "    r += 1    \n",
    "wb.save('xlwt cyclic_perms_eigenvals.xls')\n",
    "\"\"\"\n",
    "\n",
    "\"\"\"\n",
    "# Push data to excel spreadsheet\n",
    "sheet2 = wb.add_sheet('Cyclic Perms Eigenvalues Scaled')\n",
    "# Column Headers\n",
    "sheet2.write(int(0), 0, \"n\")\n",
    "sheet2.write(int(0),1, \"Eigenvalues\")\n",
    "# Perm number\n",
    "rows = list(weighted_export.keys())\n",
    "i = 1\n",
    "for val in rows:\n",
    "    sheet2.write(int(i), int(0), str(val))\n",
    "    i += 1\n",
    "# Eigenvalues\n",
    "r = 1\n",
    "for vals in weighted_export.values():\n",
    "    c = 1\n",
    "    for val in vals:\n",
    "        sheet2.write(int(r), int(c), str(val))\n",
    "        c += 1\n",
    "    r += 1    \n",
    "wb.save('xlwt cyclic_perms_eigenvals_weighted.xls')\n",
    "\"\"\""
   ]
  },
  {
   "cell_type": "code",
   "execution_count": null,
   "metadata": {},
   "outputs": [],
   "source": []
  }
 ],
 "metadata": {
  "kernelspec": {
   "display_name": "SageMath 9.4",
   "language": "sage",
   "name": "sagemath-9.4"
  },
  "language_info": {
   "codemirror_mode": {
    "name": "ipython",
    "version": 3
   },
   "file_extension": ".py",
   "mimetype": "text/x-python",
   "name": "python",
   "nbconvert_exporter": "python",
   "pygments_lexer": "ipython3",
   "version": "3.9.5"
  }
 },
 "nbformat": 4,
 "nbformat_minor": 4
}
