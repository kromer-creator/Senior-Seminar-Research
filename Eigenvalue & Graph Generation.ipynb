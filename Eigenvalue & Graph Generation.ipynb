{
 "cells": [
  {
   "cell_type": "markdown",
   "metadata": {},
   "source": [
    "### Normalization Functions"
   ]
  },
  {
   "cell_type": "code",
   "execution_count": 41,
   "metadata": {},
   "outputs": [],
   "source": [
    "def scaleEigenvalues(eigenvalues, sage=False):\n",
    "    all_eigenvals_weighted = list()\n",
    "    lambda_1 = min(eigenvalues)\n",
    "    lambda_n = max(eigenvalues)\n",
    "    for val in eigenvalues:\n",
    "        e_weighted = (val-lambda_1)/(lambda_n-lambda_1)\n",
    "        if sage:\n",
    "            all_eigenvals_weighted.append(RR(e_weighted))\n",
    "        else:\n",
    "            all_eigenvals_weighted.append(e_weighted)\n",
    "    return all_eigenvals_weighted\n",
    "\n",
    "def dictScaleEigenvalues(eigenvalues):\n",
    "    all_eigenvalues_weighted = dict()\n",
    "    i = 3\n",
    "    for m in eigenvalues.values():\n",
    "        lambda_1 = min(m)\n",
    "        lambda_n = max(m)\n",
    "        vals = list()\n",
    "        for e in m:\n",
    "            e_weighted = (e-lambda_1)/(lambda_n-lambda_1)\n",
    "            # Omit the non-real portion of any complex number\n",
    "            # RealField() Floating number with arbitrary (still fixed) many bits of precision\n",
    "            vals.append(RR(e_weighted))\n",
    "        all_eigenvalues_weighted[i] = vals\n",
    "        i += 1\n",
    "    return all_eigenvalues_weighted\n"
   ]
  },
  {
   "cell_type": "markdown",
   "metadata": {},
   "source": [
    "# Cyclic Permutations of n-gons"
   ]
  },
  {
   "cell_type": "markdown",
   "metadata": {},
   "source": [
    "Observations:\n",
    "* Repeating eigenvalues except for 2 and -2 (at 48 permutation group)\n",
    "* Larger gaps in the center, gaps get smaller towards edges"
   ]
  },
  {
   "cell_type": "code",
   "execution_count": 42,
   "metadata": {
    "scrolled": false
   },
   "outputs": [
    {
     "data": {
      "image/png": "[encoded data removed]",
      "text/plain": [
       "<Figure size 432x288 with 1 Axes>"
      ]
     },
     "metadata": {
      "needs_background": "light"
     },
     "output_type": "display_data"
    }
   ],
   "source": [
    "import matplotlib.pyplot as plt\n",
    "\n",
    "export_data = dict()\n",
    "all_eigenvals = list()\n",
    "\n",
    "for i in range(3,51):\n",
    "    C = groups.permutation.Cyclic(i)\n",
    "    # Make generating set\n",
    "    s1 = tuple(range(1,i+1))\n",
    "    s_ = [1] + list(range(i, 1, -1))\n",
    "    s2 = tuple(s_)\n",
    "    S = [s1,s2]\n",
    "    # Produce Cayley Graph\n",
    "    d = C.cayley_graph(generators=S)\n",
    "    d = d.to_undirected()\n",
    "    # Adjacency matrix fxn\n",
    "    A = d.adjacency_matrix()\n",
    "    # Get Eigenvalues\n",
    "    eigenvals = A.eigenvalues()\n",
    "    for e in eigenvals:\n",
    "        all_eigenvals.append(e)\n",
    "    export_data[i] = eigenvals\n",
    "\n",
    "\n",
    "# Scale eigenvalues within dictionary\n",
    "weighted_dict = dictScaleEigenvalues(export_data)\n",
    "\n",
    "# Scale eigenvalues within list\n",
    "all_eigenvals_weighted = scaleEigenvalues(all_eigenvals, sage=True)\n",
    "\n",
    "\n",
    "# Make histogram for all eigenvalues from cyclic permutations from cyclic groups 3 to 50   \n",
    "# Make histogram for n = 50\n",
    "plt.hist(list(weighted_dict[50]), density=False, bins=100) \n",
    "plt.ylabel('Num Occurences')\n",
    "plt.xlabel('Eigenvalues');\n",
    "plt.show()\n"
   ]
  },
  {
   "cell_type": "markdown",
   "metadata": {},
   "source": [
    "# Cyclic Permutations n-gons with Opposite Edges"
   ]
  },
  {
   "cell_type": "markdown",
   "metadata": {},
   "source": [
    "* If we use a cyclic group with n = 2k elements (even number of elements)...\n",
    "* We can choose S = {1, k, 2k - 1} as our generating set.\n",
    "* The Cayley graph will produce the regular n-gon (from generators 1 and 2k - 1) and the diagonals of the regular n-gon (from the generator k).\n",
    "* Experiment using the cyclic group with n elements and choose different generating sets S. (One condition on S: if k is in S, so is n - k.)\n"
   ]
  },
  {
   "cell_type": "code",
   "execution_count": 88,
   "metadata": {},
   "outputs": [
    {
     "data": {
      "image/png": "[encoded data removed]",
      "text/plain": [
       "<Figure size 432x288 with 1 Axes>"
      ]
     },
     "metadata": {
      "needs_background": "light"
     },
     "output_type": "display_data"
    }
   ],
   "source": [
    "import matplotlib.pyplot as plt\n",
    "\n",
    "for i in range(3,49):\n",
    "    C = groups.permutation.Cyclic(i)\n",
    "    # Make generating set\n",
    "    s1 = tuple(range(1,i+1))\n",
    "    s_ = [1] + list(range(i, 1, -1))\n",
    "    s2 = tuple(s_)\n",
    "    s3 = []\n",
    "    #only if i is even\n",
    "    # Need to figure out how to multiply the permutations for s3\n",
    "    # recognize as perms and multiply together\n",
    "    #for j in range(1, (i/2)+1):\n",
    "        #s3.append((j, j+(i/2)))\n",
    "    S = [s1,s2]\n",
    "    #print(S)\n",
    "   \n",
    "    # Produce Cayley Graph\n",
    "    d = C.cayley_graph(generators=S)\n",
    "    d = d.to_undirected()\n",
    "    \n",
    "    # Adjacency matrix fxn\n",
    "    A = d.adjacency_matrix()\n",
    "\n",
    "    # Get Eigenvalues\n",
    "    eigenvals = A.eigenvalues()\n",
    "    export_data[i] = eigenvals\n",
    "    \n",
    "# Scale eigenvalues within dictionary\n",
    "weighted_dict = dictScaleEigenvalues(export_data)\n",
    "\n",
    "# Make histogram for n = 100\n",
    "plt.hist(list(weighted_dict[48]), density=False, bins=100)  # density=False would make counts\n",
    "plt.ylabel('Num Occurences')\n",
    "plt.xlabel('Eigenvalues');\n",
    "plt.show()\n"
   ]
  },
  {
   "cell_type": "markdown",
   "metadata": {},
   "source": [
    "# Random Adjacency Matrices with Zero Diagonal\n",
    "### Looks like adjacency matrix (vertex never has edge with itself)\n",
    "* Binomial dist. and pick either 0 or 1 (50-50 prob to start, then can look at other examples - sparse/dense graphs). Populate diagonal with zeros. Symmetric.\n",
    "* Do these distributions look similar to the distributions yielded from the special Cayley graphs?\n",
    "\n",
    "Observations:\n",
    "* As the success rate decreases, the spread of the eigenvalues increases. Eigenvalues between 0 and .4 with .5 success, always 1 eigenvalue at 1. Why?"
   ]
  },
  {
   "cell_type": "code",
   "execution_count": 43,
   "metadata": {
    "scrolled": true
   },
   "outputs": [
    {
     "data": {
      "image/png": "[encoded data removed]",
      "text/plain": [
       "<Figure size 432x288 with 1 Axes>"
      ]
     },
     "metadata": {
      "needs_background": "light"
     },
     "output_type": "display_data"
    }
   ],
   "source": [
    "import numpy as np\n",
    "import matplotlib.pyplot as plt\n",
    "\n",
    "# num trials, success rate, size\n",
    "s = np.random.binomial(1, .75, size=(50,50))\n",
    "rows = s.shape[0]\n",
    "cols = s.shape[1]\n",
    "for i in range(0, rows):\n",
    "    for j in range(i+1, cols):\n",
    "        s[j,i] = s[i,j]\n",
    "np.fill_diagonal(s, 0)\n",
    "\n",
    "# Get eigenvalues\n",
    "eigenvals = np.linalg.eigvalsh(s) \n",
    "\n",
    "# Scale eigenvalues\n",
    "all_eigenvals_weighted = scaleEigenvalues(eigenvals)\n",
    "    \n",
    " # Make histogram\n",
    "plt.hist(all_eigenvals_weighted, density=False, bins=200, range=[float(-0.02),float(1.2)])  # density=False would make counts\n",
    "plt.ylabel('Num Occurences')\n",
    "plt.xlabel('Eigenvalues');\n",
    "plt.show()\n"
   ]
  },
  {
   "cell_type": "markdown",
   "metadata": {},
   "source": [
    "# 200 Real 50x50 Symmetric Matrices\n",
    "## Normal Distribution"
   ]
  },
  {
   "cell_type": "code",
   "execution_count": 56,
   "metadata": {
    "scrolled": true
   },
   "outputs": [
    {
     "data": {
      "image/png": "[encoded data removed]",
      "text/plain": [
       "<Figure size 432x288 with 1 Axes>"
      ]
     },
     "metadata": {
      "needs_background": "light"
     },
     "output_type": "display_data"
    }
   ],
   "source": [
    "import numpy as np\n",
    "import matplotlib.pyplot as plt\n",
    "\n",
    "all_eigenvals = list()\n",
    "for i in range(200):\n",
    "    s = np.random.normal(0, 1, size=(50,50))\n",
    "\n",
    "    rows = s.shape[0]\n",
    "    cols = s.shape[1]\n",
    "    for i in range(0, rows):\n",
    "        for j in range(i+1, cols):\n",
    "            s[j,i] = s[i,j]\n",
    "\n",
    "    # Get eigenvalues\n",
    "    eigenvals = np.linalg.eigvalsh(s)\n",
    "    for e in eigenvals:\n",
    "        all_eigenvals.append(e)\n",
    "    \n",
    "# Scale eigenvalues\n",
    "all_eigenvals_weighted = scaleEigenvalues(all_eigenvals)\n",
    "    \n",
    "# Make histogram\n",
    "plt.hist(all_eigenvals_weighted, density=False, bins=200, range=[float(-0.02),float(1.2)])  # density=False would make counts\n",
    "plt.ylabel('Num Occurences')\n",
    "plt.xlabel('Eigenvalues');\n",
    "plt.show()\n"
   ]
  },
  {
   "cell_type": "markdown",
   "metadata": {},
   "source": [
    "# 200 Real 50x50 Symmetric Matrices\n",
    "## Uniform Distribution\n",
    "Observations: \n",
    "* Looks a lot like the random adjacency matrices (with binomial dist.)"
   ]
  },
  {
   "cell_type": "code",
   "execution_count": 47,
   "metadata": {},
   "outputs": [
    {
     "data": {
      "image/png": "[encoded data removed]",
      "text/plain": [
       "<Figure size 432x288 with 1 Axes>"
      ]
     },
     "metadata": {
      "needs_background": "light"
     },
     "output_type": "display_data"
    }
   ],
   "source": [
    "import numpy as np\n",
    "import matplotlib.pyplot as plt\n",
    "\n",
    "all_eigenvals = list()\n",
    "for i in range(200):\n",
    "    s = np.random.uniform(0, 1, size=(50,50))\n",
    "    rows = s.shape[0]\n",
    "    cols = s.shape[1]\n",
    "    for i in range(0, rows):\n",
    "        for j in range(i+1, cols):\n",
    "            s[j,i] = s[i,j]\n",
    "    # Get eigenvalues\n",
    "    eigenvals = np.linalg.eigvalsh(s)\n",
    "    for e in eigenvals:\n",
    "        all_eigenvals.append(e)\n",
    "\n",
    "# Scale eigenvalues\n",
    "all_eigenvals_weighted = scaleEigenvalues(all_eigenvals)\n",
    "    \n",
    "# Make histogram\n",
    "plt.hist(all_eigenvals_weighted, density=False, bins=200, range=[float(-0.02),float(1.2)])  # density=False would make counts\n",
    "plt.ylabel('Num Occurences')\n",
    "plt.xlabel('Eigenvalues');\n",
    "plt.show()"
   ]
  },
  {
   "cell_type": "markdown",
   "metadata": {},
   "source": [
    "# Uniform Distribution"
   ]
  },
  {
   "cell_type": "code",
   "execution_count": 58,
   "metadata": {},
   "outputs": [
    {
     "data": {
      "image/png": "[encoded data removed]",
      "text/plain": [
       "<Figure size 432x288 with 1 Axes>"
      ]
     },
     "metadata": {
      "needs_background": "light"
     },
     "output_type": "display_data"
    }
   ],
   "source": [
    "import numpy as np\n",
    "import matplotlib.pyplot as plt\n",
    "\n",
    "nums = []\n",
    "# Generate uniform numbers\n",
    "for i in range(10000):\n",
    "    num = np.random.uniform(0, 1)\n",
    "    nums.append(num)\n",
    "    \n",
    "# Scale Eigenvalues    \n",
    "weighted_nums = scaleEigenvalues(nums) \n",
    "    \n",
    "# Make histogram\n",
    "plt.hist(weighted_nums, density=False, bins=200, range=[float(-.02),float(1.02)])  # density=False would make counts\n",
    "plt.ylabel('Num Occurences')\n",
    "plt.xlabel('Nums');\n",
    "plt.show()"
   ]
  },
  {
   "cell_type": "markdown",
   "metadata": {},
   "source": [
    "# Poisson Spectrum"
   ]
  },
  {
   "cell_type": "code",
   "execution_count": 59,
   "metadata": {},
   "outputs": [
    {
     "data": {
      "image/png": "[encoded data removed]",
      "text/plain": [
       "<Figure size 432x288 with 1 Axes>"
      ]
     },
     "metadata": {
      "needs_background": "light"
     },
     "output_type": "display_data"
    }
   ],
   "source": [
    "import numpy as np\n",
    "import random\n",
    "import matplotlib.pyplot as plt\n",
    "\n",
    "nums = []\n",
    "# Generate Poission numbers\n",
    "for i in range(1000):\n",
    "    # params: lambda, size\n",
    "    num = np.random.poisson(500)\n",
    "    nums.append(num)\n",
    "    \n",
    "weighted_nums = scaleEigenvalues(nums)\n",
    "\n",
    "# Make histogram\n",
    "plt.hist(weighted_nums, density=False, bins=200, range=[float(-.02),float(1.02)])  # density=False would make counts\n",
    "plt.ylabel('Num Occurences')\n",
    "plt.xlabel('Values');\n",
    "plt.show()"
   ]
  },
  {
   "cell_type": "markdown",
   "metadata": {},
   "source": [
    "### If Needed: Code to push to excel spreadsheet"
   ]
  },
  {
   "cell_type": "code",
   "execution_count": 3,
   "metadata": {
    "scrolled": true
   },
   "outputs": [
    {
     "data": {
      "text/plain": [
       "'\\n# Push data to excel spreadsheet\\nsheet2 = wb.add_sheet(\\'Cyclic Perms Eigenvalues Scaled\\')\\n# Column Headers\\nsheet2.write(int(0), 0, \"n\")\\nsheet2.write(int(0),1, \"Eigenvalues\")\\n# Perm number\\nrows = list(weighted_export.keys())\\ni = 1\\nfor val in rows:\\n    sheet2.write(int(i), int(0), str(val))\\n    i += 1\\n# Eigenvalues\\nr = 1\\nfor vals in weighted_export.values():\\n    c = 1\\n    for val in vals:\\n        sheet2.write(int(r), int(c), str(val))\\n        c += 1\\n    r += 1    \\nwb.save(\\'xlwt cyclic_perms_eigenvals_weighted.xls\\')\\n'"
      ]
     },
     "execution_count": 3,
     "metadata": {},
     "output_type": "execute_result"
    }
   ],
   "source": [
    "#import xlwt\n",
    "#from xlwt import Workbook\n",
    "\"\"\"\n",
    "# Push data to excel spreadsheet\n",
    "wb = Workbook()\n",
    "sheet1 = wb.add_sheet('Cyclic Perms Eigenvalues')\n",
    "# Column Headers\n",
    "sheet1.write(int(0), 0, \"n\")\n",
    "sheet1.write(int(0),1, \"Eigenvalues\")\n",
    "# Perm number\n",
    "rows = list(export_data.keys())\n",
    "i = 1\n",
    "for val in rows:\n",
    "    sheet1.write(int(i), 0, val)\n",
    "    i += 1\n",
    "# Eigenvalues\n",
    "r = 1\n",
    "for vals in export_data.values():\n",
    "    c = 1\n",
    "    for val in vals:\n",
    "        sheet1.write(int(r), int(c), str(val))\n",
    "        c += 1\n",
    "    r += 1    \n",
    "wb.save('xlwt cyclic_perms_eigenvals.xls')\n",
    "\"\"\"\n",
    "\n",
    "\"\"\"\n",
    "# Push data to excel spreadsheet\n",
    "sheet2 = wb.add_sheet('Cyclic Perms Eigenvalues Scaled')\n",
    "# Column Headers\n",
    "sheet2.write(int(0), 0, \"n\")\n",
    "sheet2.write(int(0),1, \"Eigenvalues\")\n",
    "# Perm number\n",
    "rows = list(weighted_export.keys())\n",
    "i = 1\n",
    "for val in rows:\n",
    "    sheet2.write(int(i), int(0), str(val))\n",
    "    i += 1\n",
    "# Eigenvalues\n",
    "r = 1\n",
    "for vals in weighted_export.values():\n",
    "    c = 1\n",
    "    for val in vals:\n",
    "        sheet2.write(int(r), int(c), str(val))\n",
    "        c += 1\n",
    "    r += 1    \n",
    "wb.save('xlwt cyclic_perms_eigenvals_weighted.xls')\n",
    "\"\"\""
   ]
  },
  {
   "cell_type": "code",
   "execution_count": null,
   "metadata": {},
   "outputs": [],
   "source": []
  }
 ],
 "metadata": {
  "kernelspec": {
   "display_name": "SageMath 9.4",
   "language": "sage",
   "name": "sagemath-9.4"
  },
  "language_info": {
   "codemirror_mode": {
    "name": "ipython",
    "version": 3
   },
   "file_extension": ".py",
   "mimetype": "text/x-python",
   "name": "python",
   "nbconvert_exporter": "python",
   "pygments_lexer": "ipython3",
   "version": "3.9.5"
  }
 },
 "nbformat": 4,
 "nbformat_minor": 4
}
